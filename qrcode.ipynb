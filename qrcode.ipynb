{
 "cells": [
  {
   "cell_type": "markdown",
   "id": "a94f699a",
   "metadata": {},
   "source": [
    "code for generating qr code of Hello world"
   ]
  },
  {
   "cell_type": "code",
   "execution_count": 1,
   "id": "79c80d73",
   "metadata": {},
   "outputs": [],
   "source": [
    "#Import Library\n",
    "import qrcode\n",
    "#Generate QR Code\n",
    "img=qrcode.make('Hello World')\n",
    "img.save('draft.png')"
   ]
  },
  {
   "cell_type": "markdown",
   "id": "8df1c0e4",
   "metadata": {},
   "source": [
    "This code place the qr code image into the pdf file.\n",
    "Input file contains the page with the data. output file will be placed with the qrcode.\n",
    "\n",
    "image_rectangle wil; be used to define the position of the qr code on the pdf file. fitz.Rect(x0,y0,x1,y1)\n",
    "Herr x0 is the left position, x1 is the right position. y0 is the upper position and y1 is the lower position."
   ]
  },
  {
   "cell_type": "code",
   "execution_count": 2,
   "id": "7643ed0f",
   "metadata": {},
   "outputs": [],
   "source": [
    "import fitz\n",
    "\n",
    "input_file = \"qrtest_in.pdf\"\n",
    "output_file = \"qrtest_out.pdf\"\n",
    "# barcode_file = \"draft.png\"\n",
    "img = open(\"draft.png\", \"rb\").read()\n",
    "# define the position (upper-right corner)\n",
    "#\n",
    "image_rectangle = fitz.Rect(450,340,550,440)\n",
    "\n",
    "# retrieve the first page of the PDF\n",
    "file_handle = fitz.open(input_file)\n",
    "first_page = file_handle[0]\n",
    "\n",
    "# add the image\n",
    "first_page.insert_image(image_rectangle, stream=img, xref=0)\n",
    "\n",
    "file_handle.save(output_file)"
   ]
  },
  {
   "cell_type": "code",
   "execution_count": 3,
   "id": "4145748c",
   "metadata": {},
   "outputs": [
    {
     "data": {
      "text/plain": [
       "Rect(450.0, 340.0, 550.0, 440.0)"
      ]
     },
     "execution_count": 3,
     "metadata": {},
     "output_type": "execute_result"
    }
   ],
   "source": [
    "image_rectangle"
   ]
  }
 ],
 "metadata": {
  "kernelspec": {
   "display_name": "Python 3 (ipykernel)",
   "language": "python",
   "name": "python3"
  },
  "language_info": {
   "codemirror_mode": {
    "name": "ipython",
    "version": 3
   },
   "file_extension": ".py",
   "mimetype": "text/x-python",
   "name": "python",
   "nbconvert_exporter": "python",
   "pygments_lexer": "ipython3",
   "version": "3.9.12"
  }
 },
 "nbformat": 4,
 "nbformat_minor": 5
}
